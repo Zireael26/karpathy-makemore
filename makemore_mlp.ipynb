{
 "cells": [
  {
   "cell_type": "markdown",
   "id": "7a57a7ef",
   "metadata": {},
   "source": [
    "# makemore, but made with an MLP (Multi-Layer Perceptron)"
   ]
  },
  {
   "cell_type": "code",
   "execution_count": 1,
   "id": "bd04747d",
   "metadata": {},
   "outputs": [],
   "source": [
    "import torch\n",
    "import torch.nn.functional as F\n",
    "import matplotlib.pyplot as plt\n",
    "%matplotlib inline\n",
    "\n",
    "if torch.backends.mps.is_available():\n",
    "    mps_device = torch.device(\"mps\")\n",
    "    torch.set_default_device(mps_device)"
   ]
  },
  {
   "cell_type": "code",
   "execution_count": 2,
   "id": "66bf524d",
   "metadata": {},
   "outputs": [
    {
     "data": {
      "text/plain": [
       "['emma', 'olivia', 'ava', 'isabella', 'sophia', 'charlotte', 'mia', 'amelia']"
      ]
     },
     "execution_count": 2,
     "metadata": {},
     "output_type": "execute_result"
    }
   ],
   "source": [
    "# read in all the words\n",
    "words = open('names.txt', 'r').read().splitlines()\n",
    "words[:8] # show first 8 words"
   ]
  },
  {
   "cell_type": "code",
   "execution_count": 3,
   "id": "fe2056fa",
   "metadata": {},
   "outputs": [
    {
     "data": {
      "text/plain": [
       "32033"
      ]
     },
     "execution_count": 3,
     "metadata": {},
     "output_type": "execute_result"
    }
   ],
   "source": [
    "len(words) # how many words do we have?"
   ]
  },
  {
   "cell_type": "code",
   "execution_count": 4,
   "id": "e0956eb2",
   "metadata": {},
   "outputs": [
    {
     "name": "stdout",
     "output_type": "stream",
     "text": [
      "{1: 'a', 2: 'b', 3: 'c', 4: 'd', 5: 'e', 6: 'f', 7: 'g', 8: 'h', 9: 'i', 10: 'j', 11: 'k', 12: 'l', 13: 'm', 14: 'n', 15: 'o', 16: 'p', 17: 'q', 18: 'r', 19: 's', 20: 't', 21: 'u', 22: 'v', 23: 'w', 24: 'x', 25: 'y', 26: 'z', 0: '.'}\n"
     ]
    }
   ],
   "source": [
    "# build the vocabulary of characters and mappings to/from integers\n",
    "chars = sorted(list(set(''.join(words)))) # unique characters in the words\n",
    "stoi = { s:i+1 for i,s in enumerate(chars) } # string to integer mapping\n",
    "stoi['.'] = 0 # add a special end-of-word character\n",
    "itos = { i:s for s,i in stoi.items() } # integer to string mapping\n",
    "print(itos)"
   ]
  },
  {
   "cell_type": "markdown",
   "id": "90187796",
   "metadata": {},
   "source": [
    "## Buiding the dataset"
   ]
  },
  {
   "cell_type": "code",
   "execution_count": 24,
   "id": "b6318779",
   "metadata": {},
   "outputs": [],
   "source": [
    "block_size = 3 # Context length: how many characters do we take to predict the next character?\n",
    "X, Y = [], [] # input and output arrays\n",
    "for w in words:\n",
    "    # print(f'word: {w}')\n",
    "    context = [0] * block_size\n",
    "    for ch in w + '.':\n",
    "        ix = stoi[ch]  # convert character to integer\n",
    "        X.append(context)  # append the context\n",
    "        Y.append(ix)  \n",
    "        # print(''.join(itos[i] for i in context), '-->', itos[ix])\n",
    "        context = context[1:] + [ix]  # slide the window, add new character\n",
    "\n",
    "X = torch.tensor(X)  # convert to tensor\n",
    "Y = torch.tensor(Y)  # convert to tensor"
   ]
  },
  {
   "cell_type": "code",
   "execution_count": 6,
   "id": "084d1c8a",
   "metadata": {},
   "outputs": [
    {
     "data": {
      "text/plain": [
       "(torch.Size([228146, 3]), torch.int64, torch.Size([228146]), torch.int64)"
      ]
     },
     "execution_count": 6,
     "metadata": {},
     "output_type": "execute_result"
    }
   ],
   "source": [
    "X.shape, X.dtype, Y.shape, Y.dtype"
   ]
  },
  {
   "cell_type": "code",
   "execution_count": 7,
   "id": "fc3a563f",
   "metadata": {},
   "outputs": [],
   "source": [
    "# Lookup Table\n",
    "C = torch.randn((27, 2))"
   ]
  },
  {
   "cell_type": "code",
   "execution_count": 8,
   "id": "8318dfb2",
   "metadata": {},
   "outputs": [
    {
     "data": {
      "text/plain": [
       "torch.Size([228146, 3, 2])"
      ]
     },
     "execution_count": 8,
     "metadata": {},
     "output_type": "execute_result"
    }
   ],
   "source": [
    "emb = C[X]\n",
    "emb.shape  # shape of the embedding tensor"
   ]
  },
  {
   "cell_type": "code",
   "execution_count": 9,
   "id": "48455831",
   "metadata": {},
   "outputs": [],
   "source": [
    "W1 = torch.randn((6, 100)) # weights for the first layer\n",
    "b1 = torch.randn(100) # bias for the first layer"
   ]
  },
  {
   "cell_type": "code",
   "execution_count": 10,
   "id": "82c6967a",
   "metadata": {},
   "outputs": [],
   "source": [
    "# torch.cat(torch.unbind(emb, 1), dim=1).shape\n",
    "h = torch.tanh(emb.view(emb.shape[0], -1) @ W1 + b1)  # apply linear transformation and activation"
   ]
  },
  {
   "cell_type": "code",
   "execution_count": 11,
   "id": "5de2bbb4",
   "metadata": {},
   "outputs": [
    {
     "data": {
      "text/plain": [
       "tensor([[-0.7160,  1.0000,  0.9999,  ...,  0.9955, -0.9979,  0.0370],\n",
       "        [-0.9986,  0.9793,  0.6316,  ...,  1.0000,  0.9982,  0.1726],\n",
       "        [-0.9677,  0.9920,  0.6065,  ...,  0.3565,  0.7759, -0.6143],\n",
       "        ...,\n",
       "        [ 0.8945,  0.9964,  0.9853,  ...,  0.9897, -0.9824, -0.1019],\n",
       "        [-0.2721,  0.9980,  0.9790,  ...,  0.8297, -0.9997, -0.4355],\n",
       "        [ 0.0701,  0.6992,  0.4785,  ...,  0.9997,  0.4676,  0.1409]],\n",
       "       device='mps:0')"
      ]
     },
     "execution_count": 11,
     "metadata": {},
     "output_type": "execute_result"
    }
   ],
   "source": [
    "h"
   ]
  },
  {
   "cell_type": "code",
   "execution_count": 12,
   "id": "b7d90f0e",
   "metadata": {},
   "outputs": [
    {
     "data": {
      "text/plain": [
       "torch.Size([228146, 100])"
      ]
     },
     "execution_count": 12,
     "metadata": {},
     "output_type": "execute_result"
    }
   ],
   "source": [
    "h.shape"
   ]
  },
  {
   "cell_type": "code",
   "execution_count": 13,
   "id": "ad065db6",
   "metadata": {},
   "outputs": [],
   "source": [
    "W2 = torch.randn((100, 27))  # weights for the output layer\n",
    "b2 = torch.randn(27)  # bias for the output layer"
   ]
  },
  {
   "cell_type": "code",
   "execution_count": 14,
   "id": "c3fbcc09",
   "metadata": {},
   "outputs": [],
   "source": [
    "logits = h @ W2 + b2  # compute logits for the output layer"
   ]
  },
  {
   "cell_type": "code",
   "execution_count": 15,
   "id": "469153e3",
   "metadata": {},
   "outputs": [
    {
     "data": {
      "text/plain": [
       "torch.Size([228146, 27])"
      ]
     },
     "execution_count": 15,
     "metadata": {},
     "output_type": "execute_result"
    }
   ],
   "source": [
    "logits.shape"
   ]
  },
  {
   "cell_type": "code",
   "execution_count": 16,
   "id": "87f6f367",
   "metadata": {},
   "outputs": [],
   "source": [
    "counts = logits.exp()  # convert logits to counts (unnormalized probabilities)"
   ]
  },
  {
   "cell_type": "code",
   "execution_count": 17,
   "id": "37b9cf9e",
   "metadata": {},
   "outputs": [],
   "source": [
    "prob = counts / counts.sum(1, keepdim=True)  # normalize to get probabilities"
   ]
  },
  {
   "cell_type": "code",
   "execution_count": 18,
   "id": "4b4c36c5",
   "metadata": {},
   "outputs": [
    {
     "data": {
      "text/plain": [
       "torch.Size([228146, 27])"
      ]
     },
     "execution_count": 18,
     "metadata": {},
     "output_type": "execute_result"
    }
   ],
   "source": [
    "prob.shape"
   ]
  },
  {
   "cell_type": "code",
   "execution_count": 19,
   "id": "c5e59266",
   "metadata": {},
   "outputs": [
    {
     "data": {
      "text/plain": [
       "(torch.Size([228146, 3]), torch.Size([228146]))"
      ]
     },
     "execution_count": 19,
     "metadata": {},
     "output_type": "execute_result"
    }
   ],
   "source": [
    "X.shape, Y.shape"
   ]
  },
  {
   "cell_type": "code",
   "execution_count": 20,
   "id": "4872db1d",
   "metadata": {},
   "outputs": [],
   "source": [
    "g = torch.Generator(device=mps_device).manual_seed(2147483647)  # set random seed for reproducibility\n",
    "C = torch.randn((27, 2), generator=g)  # reinitialize the lookup table with the same seed\n",
    "W1 = torch.randn((6, 100), generator=g)  # reinitialize weights\n",
    "b1 = torch.randn(100, generator=g)  # reinitialize biases for the first layer\n",
    "W2 = torch.randn((100, 27), generator=g)  # reinitialize weights for the output layer\n",
    "b2 = torch.randn(27, generator=g)  # reinitialize biases for the output layer\n",
    "parameters = [C, W1, b1, W2, b2]  # list of parameters"
   ]
  },
  {
   "cell_type": "code",
   "execution_count": 21,
   "id": "5709c9da",
   "metadata": {},
   "outputs": [
    {
     "data": {
      "text/plain": [
       "3481"
      ]
     },
     "execution_count": 21,
     "metadata": {},
     "output_type": "execute_result"
    }
   ],
   "source": [
    "sum(p.nelement() for p in parameters)"
   ]
  },
  {
   "cell_type": "code",
   "execution_count": 22,
   "id": "a2cc80d9",
   "metadata": {},
   "outputs": [],
   "source": [
    "for p in parameters:\n",
    "    p.requires_grad = True  # enable gradients for all parameters"
   ]
  },
  {
   "cell_type": "code",
   "execution_count": 23,
   "id": "c9ede871",
   "metadata": {},
   "outputs": [
    {
     "name": "stdout",
     "output_type": "stream",
     "text": [
      "2.5788886547088623\n"
     ]
    }
   ],
   "source": [
    "#  Forward pass\n",
    "X, Y = X.to(mps_device), Y.to(mps_device)  # move\n",
    "\n",
    "for _ in range(1000):\n",
    "    emb = C[X]  # get embeddings for the input characters\n",
    "    h = torch.tanh(emb.view(emb.shape[0], -1) @ W1 + b1)  # apply linear transformation and activation\n",
    "    logits = h @ W2 + b2  # compute logits for the output layer\n",
    "    # counts = logits.exp()  # convert logits to counts (unnormalized probabilities)\n",
    "    # prob = counts / counts.sum(1, keepdim=True)  # normalize to get probabilities\n",
    "    # loss = -prob[torch.arange(32), Y].log().mean()  # compute the log probability of the true labels\n",
    "    loss = F.cross_entropy(logits, Y)  # equivalent loss using PyTorch's built-in function\n",
    "\n",
    "    # Backward pass\n",
    "    learning_rate = 0.1  # learning rate for the optimizer\n",
    "    for p in parameters:\n",
    "        p.grad = None  # zero out gradients\n",
    "\n",
    "    loss.backward()  # compute gradients\n",
    "    # Update parameters\n",
    "    for p in parameters:\n",
    "        p.data += -learning_rate * p.grad  # update parameters using gradient descent\n",
    "\n",
    "print(loss.item())  # print the loss value"
   ]
  }
 ],
 "metadata": {
  "kernelspec": {
   "display_name": ".venv",
   "language": "python",
   "name": "python3"
  },
  "language_info": {
   "codemirror_mode": {
    "name": "ipython",
    "version": 3
   },
   "file_extension": ".py",
   "mimetype": "text/x-python",
   "name": "python",
   "nbconvert_exporter": "python",
   "pygments_lexer": "ipython3",
   "version": "3.13.5"
  }
 },
 "nbformat": 4,
 "nbformat_minor": 5
}
