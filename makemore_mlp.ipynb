{
 "cells": [
  {
   "cell_type": "markdown",
   "id": "7a57a7ef",
   "metadata": {},
   "source": [
    "# makemore, but made with an MLP (Multi-Layer Perceptron)\n"
   ]
  },
  {
   "cell_type": "code",
   "execution_count": 1,
   "id": "bd04747d",
   "metadata": {},
   "outputs": [],
   "source": [
    "import torch\n",
    "import torch.nn.functional as F\n",
    "import matplotlib.pyplot as plt\n",
    "%matplotlib inline\n",
    "\n",
    "if torch.backends.mps.is_available():\n",
    "    mps_device = torch.device(\"mps\")\n",
    "    torch.set_default_device(mps_device)"
   ]
  },
  {
   "cell_type": "code",
   "execution_count": 2,
   "id": "66bf524d",
   "metadata": {},
   "outputs": [
    {
     "data": {
      "text/plain": [
       "['emma', 'olivia', 'ava', 'isabella', 'sophia', 'charlotte', 'mia', 'amelia']"
      ]
     },
     "execution_count": 2,
     "metadata": {},
     "output_type": "execute_result"
    }
   ],
   "source": [
    "# read in all the words\n",
    "words = open(\"names.txt\", \"r\").read().splitlines()\n",
    "words[:8]  # show first 8 words"
   ]
  },
  {
   "cell_type": "code",
   "execution_count": 3,
   "id": "fe2056fa",
   "metadata": {},
   "outputs": [
    {
     "data": {
      "text/plain": [
       "32033"
      ]
     },
     "execution_count": 3,
     "metadata": {},
     "output_type": "execute_result"
    }
   ],
   "source": [
    "len(words)  # how many words do we have?"
   ]
  },
  {
   "cell_type": "code",
   "execution_count": 4,
   "id": "e0956eb2",
   "metadata": {},
   "outputs": [
    {
     "name": "stdout",
     "output_type": "stream",
     "text": [
      "{1: 'a', 2: 'b', 3: 'c', 4: 'd', 5: 'e', 6: 'f', 7: 'g', 8: 'h', 9: 'i', 10: 'j', 11: 'k', 12: 'l', 13: 'm', 14: 'n', 15: 'o', 16: 'p', 17: 'q', 18: 'r', 19: 's', 20: 't', 21: 'u', 22: 'v', 23: 'w', 24: 'x', 25: 'y', 26: 'z', 0: '.'}\n"
     ]
    }
   ],
   "source": [
    "# build the vocabulary of characters and mappings to/from integers\n",
    "chars = sorted(list(set(\"\".join(words))))  # unique characters in the words\n",
    "stoi = {s: i + 1 for i, s in enumerate(chars)}  # string to integer mapping\n",
    "stoi[\".\"] = 0  # add a special end-of-word character\n",
    "itos = {i: s for s, i in stoi.items()}  # integer to string mapping\n",
    "print(itos)"
   ]
  },
  {
   "cell_type": "markdown",
   "id": "90187796",
   "metadata": {},
   "source": [
    "## Buiding the dataset\n"
   ]
  },
  {
   "cell_type": "code",
   "execution_count": 5,
   "id": "b6318779",
   "metadata": {},
   "outputs": [],
   "source": [
    "block_size = (\n",
    "    3  # Context length: how many characters do we take to predict the next character?\n",
    ")\n",
    "X, Y = [], []  # input and output arrays\n",
    "for w in words:\n",
    "    # print(f'word: {w}')\n",
    "    context = [0] * block_size\n",
    "    for ch in w + \".\":\n",
    "        ix = stoi[ch]  # convert character to integer\n",
    "        X.append(context)  # append the context\n",
    "        Y.append(ix)\n",
    "        # print(''.join(itos[i] for i in context), '-->', itos[ix])\n",
    "        context = context[1:] + [ix]  # slide the window, add new character\n",
    "\n",
    "X = torch.tensor(X)  # convert to tensor\n",
    "Y = torch.tensor(Y)  # convert to tensor"
   ]
  },
  {
   "cell_type": "code",
   "execution_count": 6,
   "id": "084d1c8a",
   "metadata": {},
   "outputs": [
    {
     "data": {
      "text/plain": [
       "(torch.Size([228146, 3]), torch.int64, torch.Size([228146]), torch.int64)"
      ]
     },
     "execution_count": 6,
     "metadata": {},
     "output_type": "execute_result"
    }
   ],
   "source": [
    "X.shape, X.dtype, Y.shape, Y.dtype"
   ]
  },
  {
   "cell_type": "code",
   "execution_count": 7,
   "id": "e4c69733",
   "metadata": {},
   "outputs": [],
   "source": [
    "# Building the dataset\n",
    "\n",
    "def build_dataset(words, block_size = 3):\n",
    "    # The block size determines how many previous characters we consider to predict the next character.\n",
    "    X, Y = [], []\n",
    "    for w in words:\n",
    "        context = [0] * block_size\n",
    "        for ch in w + \".\":\n",
    "            ix = stoi[ch]\n",
    "            X.append(context)\n",
    "            Y.append(ix)\n",
    "            context = context[1:] + [ix]\n",
    "    return torch.tensor(X), torch.tensor(Y)\n",
    "\n",
    "import random\n",
    "random.seed(42)  # for reproducibility\n",
    "random.shuffle(words)  # shuffle the words to ensure randomness\n",
    "n1 = int(0.8 * len(words))  # 80% for training\n",
    "n2 = int(0.9 * len(words))  # 10% for validation\n",
    "\n",
    "X_train, Y_train = build_dataset(words[:n1])\n",
    "X_dev, Y_dev = build_dataset(words[n1:n2])\n",
    "X_test, Y_test = build_dataset(words[n2:])"
   ]
  },
  {
   "cell_type": "code",
   "execution_count": 8,
   "id": "fc3a563f",
   "metadata": {},
   "outputs": [],
   "source": [
    "# Lookup Table\n",
    "C = torch.randn((27, 2))"
   ]
  },
  {
   "cell_type": "code",
   "execution_count": 9,
   "id": "8318dfb2",
   "metadata": {},
   "outputs": [
    {
     "data": {
      "text/plain": [
       "torch.Size([228146, 3, 2])"
      ]
     },
     "execution_count": 9,
     "metadata": {},
     "output_type": "execute_result"
    }
   ],
   "source": [
    "emb = C[X]\n",
    "emb.shape  # shape of the embedding tensor"
   ]
  },
  {
   "cell_type": "code",
   "execution_count": 10,
   "id": "48455831",
   "metadata": {},
   "outputs": [],
   "source": [
    "W1 = torch.randn((6, 100))  # weights for the first layer\n",
    "b1 = torch.randn(100)  # bias for the first layer"
   ]
  },
  {
   "cell_type": "code",
   "execution_count": 11,
   "id": "82c6967a",
   "metadata": {},
   "outputs": [],
   "source": [
    "# torch.cat(torch.unbind(emb, 1), dim=1).shape\n",
    "h = torch.tanh(\n",
    "    emb.view(emb.shape[0], -1) @ W1 + b1\n",
    ")  # apply linear transformation and activation"
   ]
  },
  {
   "cell_type": "code",
   "execution_count": 12,
   "id": "5de2bbb4",
   "metadata": {},
   "outputs": [
    {
     "data": {
      "text/plain": [
       "tensor([[ 0.7036, -0.9967, -0.7663,  ..., -0.1332, -0.6623,  0.9945],\n",
       "        [-0.9832,  0.6668, -0.0578,  ...,  0.4708,  0.9931,  0.9286],\n",
       "        [ 0.9792,  0.9995, -0.9862,  ..., -0.8552,  0.6527, -0.8619],\n",
       "        ...,\n",
       "        [ 0.9823, -0.9949, -0.9873,  ...,  1.0000, -0.9570,  0.9957],\n",
       "        [-0.9993, -0.9994,  0.9825,  ...,  1.0000,  0.5973,  0.9627],\n",
       "        [ 0.9988,  0.9654, -0.9993,  ..., -0.9998, -0.9994,  0.8753]],\n",
       "       device='mps:0')"
      ]
     },
     "execution_count": 12,
     "metadata": {},
     "output_type": "execute_result"
    }
   ],
   "source": [
    "h"
   ]
  },
  {
   "cell_type": "code",
   "execution_count": 13,
   "id": "b7d90f0e",
   "metadata": {},
   "outputs": [
    {
     "data": {
      "text/plain": [
       "torch.Size([228146, 100])"
      ]
     },
     "execution_count": 13,
     "metadata": {},
     "output_type": "execute_result"
    }
   ],
   "source": [
    "h.shape"
   ]
  },
  {
   "cell_type": "code",
   "execution_count": 14,
   "id": "ad065db6",
   "metadata": {},
   "outputs": [],
   "source": [
    "W2 = torch.randn((100, 27))  # weights for the output layer\n",
    "b2 = torch.randn(27)  # bias for the output layer"
   ]
  },
  {
   "cell_type": "code",
   "execution_count": 15,
   "id": "c3fbcc09",
   "metadata": {},
   "outputs": [],
   "source": [
    "logits = h @ W2 + b2  # compute logits for the output layer"
   ]
  },
  {
   "cell_type": "code",
   "execution_count": 16,
   "id": "469153e3",
   "metadata": {},
   "outputs": [
    {
     "data": {
      "text/plain": [
       "torch.Size([228146, 27])"
      ]
     },
     "execution_count": 16,
     "metadata": {},
     "output_type": "execute_result"
    }
   ],
   "source": [
    "logits.shape"
   ]
  },
  {
   "cell_type": "code",
   "execution_count": 17,
   "id": "87f6f367",
   "metadata": {},
   "outputs": [],
   "source": [
    "counts = logits.exp()  # convert logits to counts (unnormalized probabilities)"
   ]
  },
  {
   "cell_type": "code",
   "execution_count": 18,
   "id": "37b9cf9e",
   "metadata": {},
   "outputs": [],
   "source": [
    "prob = counts / counts.sum(1, keepdim=True)  # normalize to get probabilities"
   ]
  },
  {
   "cell_type": "code",
   "execution_count": 19,
   "id": "4b4c36c5",
   "metadata": {},
   "outputs": [
    {
     "data": {
      "text/plain": [
       "torch.Size([228146, 27])"
      ]
     },
     "execution_count": 19,
     "metadata": {},
     "output_type": "execute_result"
    }
   ],
   "source": [
    "prob.shape"
   ]
  },
  {
   "cell_type": "code",
   "execution_count": 20,
   "id": "c5e59266",
   "metadata": {},
   "outputs": [
    {
     "data": {
      "text/plain": [
       "(torch.Size([228146, 3]), torch.Size([228146]))"
      ]
     },
     "execution_count": 20,
     "metadata": {},
     "output_type": "execute_result"
    }
   ],
   "source": [
    "X.shape, Y.shape"
   ]
  },
  {
   "cell_type": "code",
   "execution_count": 21,
   "id": "4872db1d",
   "metadata": {},
   "outputs": [],
   "source": [
    "num_neurons = 256\n",
    "g = torch.Generator(device=mps_device).manual_seed(\n",
    "    2147483647\n",
    ")  # set random seed for reproducibility\n",
    "C = torch.randn(\n",
    "    (27, 16), generator=g\n",
    ")  # reinitialize the lookup table with the same seed\n",
    "W1 = torch.randn((48, num_neurons), generator=g)  # reinitialize weights\n",
    "b1 = torch.randn(num_neurons, generator=g)  # reinitialize biases for the first layer\n",
    "W2 = torch.randn((num_neurons, 27), generator=g)  # reinitialize weights for the output layer\n",
    "b2 = torch.randn(27, generator=g)  # reinitialize biases for the output layer\n",
    "parameters = [C, W1, b1, W2, b2]  # list of parameters"
   ]
  },
  {
   "cell_type": "code",
   "execution_count": 22,
   "id": "5709c9da",
   "metadata": {},
   "outputs": [
    {
     "data": {
      "text/plain": [
       "19915"
      ]
     },
     "execution_count": 22,
     "metadata": {},
     "output_type": "execute_result"
    }
   ],
   "source": [
    "sum(p.nelement() for p in parameters)"
   ]
  },
  {
   "cell_type": "code",
   "execution_count": 23,
   "id": "a2cc80d9",
   "metadata": {},
   "outputs": [],
   "source": [
    "for p in parameters:\n",
    "    p.requires_grad = True  # enable gradients for all parameters"
   ]
  },
  {
   "cell_type": "code",
   "execution_count": 24,
   "id": "f3a5e83e",
   "metadata": {},
   "outputs": [],
   "source": [
    "# Exponentially linearly spaced learning rates\n",
    "steps = 384000\n",
    "# lre = torch.linspace(-3, 0, steps)\n",
    "lre = torch.linspace(-1.75, -0.25, steps)\n",
    "lrs = 10**lre"
   ]
  },
  {
   "cell_type": "code",
   "execution_count": 25,
   "id": "1af62fc0",
   "metadata": {},
   "outputs": [],
   "source": [
    "#  Forward pass\n",
    "X_train, Y_train = X_train.to(mps_device), Y_train.to(mps_device)  # move\n",
    "# learning_rate = -0.25  # learning rate for the optimizer\n",
    "lri = []\n",
    "lossi = []\n",
    "stepi = []\n",
    "batch_size = 512  # size of the mini-batch\n"
   ]
  },
  {
   "cell_type": "code",
   "execution_count": 26,
   "id": "c9ede871",
   "metadata": {},
   "outputs": [
    {
     "name": "stdout",
     "output_type": "stream",
     "text": [
      "1.947517991065979\n"
     ]
    },
    {
     "data": {
      "image/png": "[encoded data removed]",
      "text/plain": [
       "<Figure size 640x480 with 1 Axes>"
      ]
     },
     "metadata": {},
     "output_type": "display_data"
    }
   ],
   "source": [
    "\n",
    "for i in range(steps):\n",
    "    # Construct Mini-batch\n",
    "    ix = torch.randint(0, X_train.shape[0], (batch_size,))\n",
    "\n",
    "    emb = C[X_train[ix]]  # get embeddings for the input characters\n",
    "    h = torch.tanh(\n",
    "        emb.view(emb.shape[0], -1) @ W1 + b1\n",
    "    )  # apply linear transformation and activation\n",
    "    logits = h @ W2 + b2  # compute logits for the output layer\n",
    "    # counts = logits.exp()  # convert logits to counts (unnormalized probabilities)\n",
    "    # prob = counts / counts.sum(1, keepdim=True)  # normalize to get probabilities\n",
    "    # loss = -prob[torch.arange(32), Y].log().mean()  # compute the log probability of the true labels\n",
    "    loss = F.cross_entropy(\n",
    "        logits, Y_train[ix]\n",
    "    )  # equivalent loss using PyTorch's built-in function\n",
    "\n",
    "    # Backward pass\n",
    "    for p in parameters:\n",
    "        p.grad = None  # zero out gradients\n",
    "\n",
    "    loss.backward()  # compute gradients\n",
    "    # Update parameters\n",
    "    # lr = lrs[i]\n",
    "    lr = 0.1\n",
    "    if i > steps / 2:\n",
    "        lr = 0.01\n",
    "    for p in parameters:\n",
    "        p.data += -lr * p.grad  # update parameters using gradient descent\n",
    "\n",
    "    # Track stats\n",
    "    # lri.append(lre[i].cpu())\n",
    "    if i % 1000 == 0:\n",
    "        lossi.append(loss.log10().item())\n",
    "        stepi.append(i)\n",
    "\n",
    "print(loss.item())  # print the loss value\n",
    "# plt.plot(lri, lossi)\n",
    "plt.plot(stepi, lossi)\n",
    "plt.xlabel(\"Step\")\n",
    "plt.ylabel(\"Loss\")\n",
    "plt.title(\"Training Loss over Steps\")\n",
    "plt.grid()\n",
    "plt.show()"
   ]
  },
  {
   "cell_type": "markdown",
   "id": "32277ab3",
   "metadata": {},
   "source": [
    "## Dev Set Loss"
   ]
  },
  {
   "cell_type": "code",
   "execution_count": 27,
   "id": "fc0c960a",
   "metadata": {},
   "outputs": [
    {
     "data": {
      "text/plain": [
       "tensor(2.1302, device='mps:0', grad_fn=<NllLossBackward0>)"
      ]
     },
     "execution_count": 27,
     "metadata": {},
     "output_type": "execute_result"
    }
   ],
   "source": [
    "emb = C[X_dev]  # get embeddings for the input characters\n",
    "h = torch.tanh(\n",
    "    emb.view(emb.shape[0], -1) @ W1 + b1\n",
    ")  # apply linear transformation and activation\n",
    "logits = h @ W2 + b2  # compute logits for the output layer\n",
    "loss = F.cross_entropy(logits, Y_dev)\n",
    "loss"
   ]
  },
  {
   "cell_type": "markdown",
   "id": "e78b0598",
   "metadata": {},
   "source": [
    "## Training set loss"
   ]
  },
  {
   "cell_type": "code",
   "execution_count": 28,
   "id": "83ce4001",
   "metadata": {},
   "outputs": [
    {
     "data": {
      "text/plain": [
       "tensor(2.0032, device='mps:0', grad_fn=<NllLossBackward0>)"
      ]
     },
     "execution_count": 28,
     "metadata": {},
     "output_type": "execute_result"
    }
   ],
   "source": [
    "emb = C[X_train]  # get embeddings for the input characters\n",
    "h = torch.tanh(\n",
    "    emb.view(emb.shape[0], -1) @ W1 + b1\n",
    ")  # apply linear transformation and activation\n",
    "logits = h @ W2 + b2  # compute logits for the output layer\n",
    "loss = F.cross_entropy(logits, Y_train)\n",
    "loss"
   ]
  },
  {
   "cell_type": "markdown",
   "id": "13f3d158",
   "metadata": {},
   "source": [
    "### Training the model on the entirety of the data for all passes will lead to a very large training time, so we will use batches of data for training\n",
    "\n",
    "It is generally better to train smaller batches of data though the gradient is not as accurate, but its better to take many small steps than a few large steps.\n",
    "### Training split, dev/validation split, test split\n",
    "### 80%. 10%, 10% split\n"
   ]
  },
  {
   "cell_type": "markdown",
   "id": "3f80adec",
   "metadata": {},
   "source": [
    "Since the training and dev set lossi are very similar, we can assume that the model is not overfitting and is generalizing well to the dev set.\n",
    "This model is not powerful enough to learn the patterns in the data/purely memorizing the data, so we can safely increase the size of the model by increasing the number of hidden units in the first layer, or by adding more layers to the model to improve the performance of the model."
   ]
  },
  {
   "cell_type": "code",
   "execution_count": 29,
   "id": "06acd7c4",
   "metadata": {},
   "outputs": [],
   "source": [
    "# # Visualise the learned embeddings\n",
    "# plt.figure(figsize=(12, 12))\n",
    "# plt.scatter(\n",
    "#     C[:, 0].detach().cpu().numpy(),\n",
    "#     C[:, 1].detach().cpu().numpy(),\n",
    "#     s=200,\n",
    "#     c=range(len(C)),\n",
    "#     cmap='viridis',\n",
    "# )\n",
    "# for i, ch in enumerate(itos.values()):\n",
    "#     plt.text(\n",
    "#         C[i, 0].item(),\n",
    "#         C[i, 1].item(),\n",
    "#         ch,\n",
    "#         fontsize=12,\n",
    "#         ha='center',\n",
    "#         va='center',\n",
    "#         color='white',\n",
    "#     )\n",
    "# plt.title(\"Learned Character Embeddings\")\n",
    "# plt.xlabel(\"Embedding Dimension 1\")\n",
    "# plt.ylabel(\"Embedding Dimension 2\")\n",
    "# plt.colorbar(label='Character Index')\n",
    "# plt.grid()\n",
    "# plt.show()\n"
   ]
  }
 ],
 "metadata": {
  "kernelspec": {
   "display_name": ".venv",
   "language": "python",
   "name": "python3"
  },
  "language_info": {
   "codemirror_mode": {
    "name": "ipython",
    "version": 3
   },
   "file_extension": ".py",
   "mimetype": "text/x-python",
   "name": "python",
   "nbconvert_exporter": "python",
   "pygments_lexer": "ipython3",
   "version": "3.13.5"
  }
 },
 "nbformat": 4,
 "nbformat_minor": 5
}
