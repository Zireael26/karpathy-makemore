{
 "cells": [
  {
   "cell_type": "markdown",
   "id": "c8eb821c",
   "metadata": {},
   "source": [
    "# Makemore"
   ]
  }
 ],
 "metadata": {
  "language_info": {
   "name": "python"
  }
 },
 "nbformat": 4,
 "nbformat_minor": 5
}
